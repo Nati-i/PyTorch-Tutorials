{
 "cells": [
  {
   "cell_type": "code",
   "execution_count": 1,
   "metadata": {},
   "outputs": [],
   "source": [
    "import torch\n",
    "import torch.nn as nn"
   ]
  },
  {
   "cell_type": "code",
   "execution_count": 2,
   "metadata": {},
   "outputs": [],
   "source": [
    "## Complete model (Lazy method)\n",
    "# torch.save(model, PATH)\n",
    "\n",
    "# load\n",
    "# model = torch.load(PATH)\n",
    "# model.eval()"
   ]
  },
  {
   "cell_type": "code",
   "execution_count": 3,
   "metadata": {},
   "outputs": [],
   "source": [
    "# recommended way of saving\n",
    "# only saving parameters\n",
    "# torch.save(model.state_dict(), PATH)\n",
    "# model = Model(*args, **kwargs)\n",
    "# model.load_state_dict(torch.load(PATH))\n",
    "# model.eval()"
   ]
  },
  {
   "cell_type": "code",
   "execution_count": 4,
   "metadata": {},
   "outputs": [
    {
     "name": "stdout",
     "output_type": "stream",
     "text": [
      "Parameter containing:\n",
      "tensor([[-0.3883, -0.3417,  0.1780, -0.3056,  0.1198,  0.3989]],\n",
      "       requires_grad=True)\n",
      "Parameter containing:\n",
      "tensor([0.0196], requires_grad=True)\n"
     ]
    }
   ],
   "source": [
    "class Model(nn.Module):\n",
    "    def __init__(self, n_input_features):\n",
    "        super(Model, self).__init__()\n",
    "        self.linear = nn.Linear(n_input_features, 1)\n",
    "        \n",
    "    def forward(self, x):\n",
    "        y_pred = torch.sigmoid(self.linear(x))\n",
    "        return y_pred\n",
    "    \n",
    "model = Model(n_input_features=6)\n",
    "\n",
    "# save model -- lazy method\n",
    "FILE = 'model.pth' # ending .pth for pytorch\n",
    "torch.save(model, FILE)\n",
    "\n",
    "loaded_model = torch.load(FILE)\n",
    "loaded_model.eval()\n",
    "\n",
    "for param in loaded_model.parameters():\n",
    "    print(param)\n"
   ]
  },
  {
   "cell_type": "code",
   "execution_count": 5,
   "metadata": {},
   "outputs": [
    {
     "name": "stdout",
     "output_type": "stream",
     "text": [
      "Parameter containing:\n",
      "tensor([[-0.3883, -0.3417,  0.1780, -0.3056,  0.1198,  0.3989]],\n",
      "       requires_grad=True)\n",
      "Parameter containing:\n",
      "tensor([0.0196], requires_grad=True)\n"
     ]
    }
   ],
   "source": [
    "# saving according to recommendation\n",
    "FILE2 = 'model2.pth' # ending .pth for pytorch\n",
    "torch.save(model.state_dict(), FILE2)\n",
    "\n",
    "# load model\n",
    "loaded_model2 = Model(n_input_features=6)\n",
    "loaded_model2.load_state_dict(torch.load(FILE2))\n",
    "loaded_model2.eval()\n",
    "\n",
    "for param in loaded_model2.parameters():\n",
    "    print(param)"
   ]
  },
  {
   "cell_type": "code",
   "execution_count": 6,
   "metadata": {},
   "outputs": [
    {
     "name": "stdout",
     "output_type": "stream",
     "text": [
      "OrderedDict([('linear.weight', tensor([[-0.3883, -0.3417,  0.1780, -0.3056,  0.1198,  0.3989]])), ('linear.bias', tensor([0.0196]))])\n"
     ]
    }
   ],
   "source": [
    "print(model.state_dict())"
   ]
  },
  {
   "cell_type": "markdown",
   "metadata": {},
   "source": [
    "## Saving a check point during training "
   ]
  },
  {
   "cell_type": "code",
   "execution_count": 14,
   "metadata": {},
   "outputs": [
    {
     "name": "stdout",
     "output_type": "stream",
     "text": [
      "{'state': {}, 'param_groups': [{'lr': 0.01, 'momentum': 0, 'dampening': 0, 'weight_decay': 0, 'nesterov': False, 'params': [0, 1]}]}\n",
      "{'state': {}, 'param_groups': [{'lr': 0.01, 'momentum': 0, 'dampening': 0, 'weight_decay': 0, 'nesterov': False, 'params': [0, 1]}]}\n"
     ]
    }
   ],
   "source": [
    "model = Model(n_input_features=6)\n",
    "learning_rate = 0.01\n",
    "optimizer = torch.optim.SGD(model.parameters(), lr=learning_rate)\n",
    "\n",
    "print(optimizer.state_dict())\n",
    "\n",
    "# creating checkpoints during training\n",
    "checkpoint = {\n",
    "    \"epoch\": 90,\n",
    "    \"model_state\": model.state_dict(),\n",
    "    \"optimizer_state\": optimizer.state_dict()\n",
    "}\n",
    "\n",
    "torch.save(checkpoint, \"checkpoint.pth\")\n",
    "\n",
    "\n",
    "loaded_checkpoint = torch.load(\"checkpoint.pth\")\n",
    "epoch = loaded_checkpoint[\"epoch\"]\n",
    "\n",
    "# must create model again\n",
    "model = Model(n_input_features=6)\n",
    "optimizer = torch.optim.SGD(model.parameters(), lr=0) # lr doesn't matter, correct one will load\n",
    "\n",
    "model.load_state_dict(checkpoint[\"model_state\"])\n",
    "optimizer.load_state_dict(checkpoint[\"optimizer_state\"])\n",
    "\n",
    "print(optimizer.state_dict())"
   ]
  },
  {
   "cell_type": "markdown",
   "metadata": {},
   "source": [
    "##### Things to keep in mind if using a GPU \n",
    "\n",
    "- you have to specify the maplocation in load_state_dict to the device\n",
    "- load model then send it to cuda device"
   ]
  }
 ],
 "metadata": {
  "kernelspec": {
   "display_name": "Python 3",
   "language": "python",
   "name": "python3"
  },
  "language_info": {
   "codemirror_mode": {
    "name": "ipython",
    "version": 3
   },
   "file_extension": ".py",
   "mimetype": "text/x-python",
   "name": "python",
   "nbconvert_exporter": "python",
   "pygments_lexer": "ipython3",
   "version": "3.7.6"
  }
 },
 "nbformat": 4,
 "nbformat_minor": 4
}
