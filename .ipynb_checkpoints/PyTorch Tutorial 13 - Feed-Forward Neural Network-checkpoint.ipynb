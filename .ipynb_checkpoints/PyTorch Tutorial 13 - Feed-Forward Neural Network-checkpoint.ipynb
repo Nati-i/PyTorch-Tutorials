{
 "cells": [
  {
   "cell_type": "markdown",
   "metadata": {},
   "source": [
    "# Feed-Forward NN"
   ]
  },
  {
   "cell_type": "code",
   "execution_count": 1,
   "metadata": {},
   "outputs": [],
   "source": [
    "# MNIST\n",
    "# DataLoader, Transformaiton\n",
    "# Multilayer Neural Net, activation function\n",
    "# Loss Optimizer\n",
    "# Training Loop (batch training)\n",
    "# Model evaluation\n",
    "\n"
   ]
  },
  {
   "cell_type": "code",
   "execution_count": 20,
   "metadata": {},
   "outputs": [
    {
     "name": "stdout",
     "output_type": "stream",
     "text": [
      "torch.Size([100, 1, 28, 28]) torch.Size([100])\n"
     ]
    },
    {
     "data": {
      "image/png": "[encoded data removed]",
      "text/plain": [
       "<Figure size 432x288 with 6 Axes>"
      ]
     },
     "metadata": {
      "needs_background": "light"
     },
     "output_type": "display_data"
    }
   ],
   "source": [
    "import torch\n",
    "import torch.nn as nn\n",
    "import torchvision\n",
    "import torchvision.transforms as transorms\n",
    "import matplotlib.pyplot as plt\n",
    "\n",
    "\n",
    "# device config\n",
    "device = torch.device('cuda' if torch.cuda.is_available() else 'cpu')\n",
    "\n",
    "\n",
    "# hyper parameters\n",
    "input_size = 784 # 28x28\n",
    "hidden_size = 100\n",
    "# 10 different classes\n",
    "num_classes = 10 \n",
    "\n",
    "# training epochs\n",
    "num_epochs = 4\n",
    "batch_size = 100\n",
    "learning_rate = 0.001\n",
    "\n",
    "#MNIST\n",
    "train_dataset = torchvision.datasets.MNIST(root='./data', train=True,\n",
    "                                          transform=transorms.ToTensor(),\n",
    "                                          download=True)\n",
    "\n",
    "test_dataset = torchvision.datasets.MNIST(root='./data', train=False,\n",
    "                                          transform=transorms.ToTensor())\n",
    "\n",
    "# dataloader\n",
    "train_loader = torch.utils.data.DataLoader(dataset=train_dataset, \n",
    "                                           batch_size=batch_size,\n",
    "                                          shuffle=True)\n",
    "test_loader = torch.utils.data.DataLoader(dataset=test_dataset, \n",
    "                                           batch_size=batch_size,\n",
    "                                          shuffle=False) \n",
    "# shuffle false b/c doesn't matter for eval\n",
    "\n",
    "examples = iter(train_loader)\n",
    "samples, labels = examples.next()\n",
    "print(samples.shape, labels.shape)\n",
    "\n",
    "for i in range(6):\n",
    "    plt.subplot(2, 3, i+1)\n",
    "    plt.imshow(samples[i][0], cmap='gray')"
   ]
  },
  {
   "cell_type": "code",
   "execution_count": 21,
   "metadata": {},
   "outputs": [
    {
     "name": "stdout",
     "output_type": "stream",
     "text": [
      "epoch 1 / 4, step 100 / 600, loss = 0.4444\n",
      "epoch 1 / 4, step 200 / 600, loss = 0.4386\n",
      "epoch 1 / 4, step 300 / 600, loss = 0.3127\n",
      "epoch 1 / 4, step 400 / 600, loss = 0.3467\n",
      "epoch 1 / 4, step 500 / 600, loss = 0.2963\n",
      "epoch 1 / 4, step 600 / 600, loss = 0.2318\n",
      "epoch 2 / 4, step 100 / 600, loss = 0.2094\n",
      "epoch 2 / 4, step 200 / 600, loss = 0.1630\n",
      "epoch 2 / 4, step 300 / 600, loss = 0.1425\n",
      "epoch 2 / 4, step 400 / 600, loss = 0.2350\n",
      "epoch 2 / 4, step 500 / 600, loss = 0.0946\n",
      "epoch 2 / 4, step 600 / 600, loss = 0.2753\n",
      "epoch 3 / 4, step 100 / 600, loss = 0.0875\n",
      "epoch 3 / 4, step 200 / 600, loss = 0.1491\n",
      "epoch 3 / 4, step 300 / 600, loss = 0.0548\n",
      "epoch 3 / 4, step 400 / 600, loss = 0.1770\n",
      "epoch 3 / 4, step 500 / 600, loss = 0.1405\n",
      "epoch 3 / 4, step 600 / 600, loss = 0.2037\n",
      "epoch 4 / 4, step 100 / 600, loss = 0.1719\n",
      "epoch 4 / 4, step 200 / 600, loss = 0.0822\n",
      "epoch 4 / 4, step 300 / 600, loss = 0.1373\n",
      "epoch 4 / 4, step 400 / 600, loss = 0.2038\n",
      "epoch 4 / 4, step 500 / 600, loss = 0.1425\n",
      "epoch 4 / 4, step 600 / 600, loss = 0.0806\n",
      "accuracy = 96.72\n"
     ]
    }
   ],
   "source": [
    "# setting up a fully connected NN with one hidden layer\n",
    "\n",
    "class NeuralNet(nn.Module):\n",
    "    \n",
    "    def __init__(self, input_size, hidden_size, num_classes):\n",
    "        super(NeuralNet, self).__init__()\n",
    "        self.input_size = input_size\n",
    "        self.l1 = nn.Linear(input_size, hidden_size) # first layer\n",
    "        self.relu = nn.ReLU() # activation layer\n",
    "        self.l2 = nn.Linear(hidden_size, num_classes) # second layer\n",
    "        \n",
    "    def forward(self, x):\n",
    "        out = self.l1(x)\n",
    "        out = self.relu(out)\n",
    "        out = self.l2(out) # no soft max here\n",
    "        return out\n",
    "\n",
    "# model\n",
    "model = NeuralNet(input_size, hidden_size, num_classes).to(device)\n",
    "\n",
    "# loss and optimizer\n",
    "criterion = nn.CrossEntropyLoss() # this will apply the soft max, which is why it was not needed earlier\n",
    "optimizer = torch.optim.Adam(model.parameters(), lr=learning_rate)\n",
    "\n",
    "# training loop\n",
    "n_total_steps = len(train_loader)\n",
    "for epoch in range(num_epochs):\n",
    "    # loop over batches\n",
    "    for i, (images, labels) in enumerate(train_loader):\n",
    "        # reshape images first from 100, 1, 28, 28 ->\n",
    "        # input size = 784 \n",
    "        images = images.reshape(-1, 28*28).to(device)\n",
    "        labels = labels.to(device)\n",
    "        \n",
    "        # forward pass\n",
    "        outputs = model(images)\n",
    "        loss = criterion(outputs, labels)\n",
    "        \n",
    "        # backward pass\n",
    "        optimizer.zero_grad() \n",
    "        loss.backward()\n",
    "        optimizer.step() # update step, updating parameters\n",
    "        \n",
    "        if (i+1) % 100 == 0:\n",
    "            print(f'epoch {epoch+1} / {num_epochs}, step {i+1} / {n_total_steps}, loss = {loss.item():.4f}')\n",
    "            \n",
    "# testing loop and evaluation\n",
    "with torch.no_grad():\n",
    "    n_correct = 0\n",
    "    n_samples = 0\n",
    "    \n",
    "    # loop over batches in test samples\n",
    "    for images, labels in test_loader:\n",
    "        # reshape\n",
    "        images = images.reshape(-1, 28*28).to(device)\n",
    "        labels = labels.to(device)\n",
    "        outputs = model(images)\n",
    "        \n",
    "        # value, index -> returned by torch.max\n",
    "        _, predictions = torch.max(outputs, 1)\n",
    "        n_samples += labels.shape[0] # gives the number of samples in current batch\n",
    "        n_correct += (predictions == labels).sum().item()\n",
    "        \n",
    "    acc = 100.0 * n_correct / n_samples\n",
    "    print(f'accuracy = {acc}')"
   ]
  },
  {
   "cell_type": "code",
   "execution_count": null,
   "metadata": {},
   "outputs": [],
   "source": []
  }
 ],
 "metadata": {
  "kernelspec": {
   "display_name": "Python 3",
   "language": "python",
   "name": "python3"
  },
  "language_info": {
   "codemirror_mode": {
    "name": "ipython",
    "version": 3
   },
   "file_extension": ".py",
   "mimetype": "text/x-python",
   "name": "python",
   "nbconvert_exporter": "python",
   "pygments_lexer": "ipython3",
   "version": "3.7.6"
  }
 },
 "nbformat": 4,
 "nbformat_minor": 4
}
