{
 "cells": [
  {
   "cell_type": "markdown",
   "metadata": {},
   "source": [
    "# The Difference Between Stack and Concat\n",
    "\n",
    "- Concatenating joins a sequence of tensors along an existing axis\n",
    "- Stacking joins a sequence of tensors along a new axis\n",
    "- Stack vs. Concat?\n",
    "    - Three images with color into a batch \n",
    "        - stack the tensors along a new batch axis\n",
    "    - Three images with a batch dimensions and we want a single batch with three images\n",
    "        - concat on the batch dimension"
   ]
  },
  {
   "cell_type": "code",
   "execution_count": 3,
   "metadata": {},
   "outputs": [
    {
     "name": "stdout",
     "output_type": "stream",
     "text": [
      "Torch Tensors\n",
      "tensor([1, 1, 1, 2, 2, 2, 3, 3, 3])\n",
      "tensor([[1, 1, 1],\n",
      "        [2, 2, 2],\n",
      "        [3, 3, 3]])\n",
      "Changing the shapes\n",
      "tensor([[1, 2, 3],\n",
      "        [1, 2, 3],\n",
      "        [1, 2, 3]])\n",
      "\n",
      "Tensorflow Tensors\n",
      "tf.Tensor([1 1 1 2 2 2 3 3 3], shape=(9,), dtype=int32) tf.Tensor(\n",
      "[[1 1 1]\n",
      " [2 2 2]\n",
      " [3 3 3]], shape=(3, 3), dtype=int32)\n",
      "\n",
      "Numpy Arrays\n",
      "[1 1 1 2 2 2 3 3 3]\n",
      "[[1 2 3]\n",
      " [1 2 3]\n",
      " [1 2 3]]\n",
      "[[1 1 1]\n",
      " [2 2 2]\n",
      " [3 3 3]]\n"
     ]
    }
   ],
   "source": [
    "import torch \n",
    "# using torch\n",
    "t1 = torch.tensor([1,1,1])\n",
    "t2 = torch.tensor([2,2,2])\n",
    "t3 = torch.tensor([3,3,3])\n",
    "\n",
    "print(\"Torch Tensors\")\n",
    "print(\n",
    "    torch.cat(\n",
    "        (t1,t2,t3),\n",
    "        dim=0\n",
    "))\n",
    "print(\n",
    "    torch.stack(\n",
    "        (t1,t2,t3),\n",
    "        dim=0\n",
    "    )\n",
    ")\n",
    "print(\"Changing the shapes\")\n",
    "print(\n",
    "        torch.cat(\n",
    "        (t1.unsqueeze(1), t2.unsqueeze(1), t3.unsqueeze(1)),dim=1\n",
    "        )\n",
    ")\n",
    "\n",
    "#---------------------------------------------\n",
    "# using tensorflow\n",
    "import tensorflow as tf\n",
    "t1 = tf.constant([1,1,1])\n",
    "t2 = tf.constant([2,2,2])\n",
    "t3 = tf.constant([3,3,3])\n",
    "\n",
    "print(\"\\nTensorflow Tensors\")\n",
    "print(\n",
    "    tf.concat(\n",
    "    (t1,t2,t3),\n",
    "    axis=0\n",
    "    ),\n",
    "    tf.stack(\n",
    "    (t1,t2,t3),\n",
    "    axis=0\n",
    "    )\n",
    ")\n",
    "\n",
    "import numpy as np\n",
    "print(\"\\nNumpy Arrays\")\n",
    "t1 = np.array([1,1,1])\n",
    "t2 = np.array([2,2,2])\n",
    "t3 = np.array([3,3,3])\n",
    "\n",
    "print(\n",
    "    np.concatenate(\n",
    "    (t1,t2,t3), axis=0),\n",
    "    np.stack(\n",
    "    (t1,t2,t3), axis=1),\n",
    "    np.concatenate(\n",
    "        (np.expand_dims(t1,0),\n",
    "        np.expand_dims(t2,0),\n",
    "        np.expand_dims(t3,0)), axis=0),\n",
    "    sep='\\n'\n",
    "\n",
    ")"
   ]
  },
  {
   "cell_type": "code",
   "execution_count": null,
   "metadata": {},
   "outputs": [],
   "source": []
  }
 ],
 "metadata": {
  "kernelspec": {
   "display_name": "Python 3",
   "language": "python",
   "name": "python3"
  },
  "language_info": {
   "codemirror_mode": {
    "name": "ipython",
    "version": 3
   },
   "file_extension": ".py",
   "mimetype": "text/x-python",
   "name": "python",
   "nbconvert_exporter": "python",
   "pygments_lexer": "ipython3",
   "version": "3.7.6"
  }
 },
 "nbformat": 4,
 "nbformat_minor": 4
}
