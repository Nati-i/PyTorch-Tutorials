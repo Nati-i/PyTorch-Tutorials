{
 "cells": [
  {
   "cell_type": "markdown",
   "metadata": {},
   "source": [
    "# ConvNet Implementation using PyTorch\n",
    "\n",
    "- Application of convolutional layers\n",
    "- Filter kernels\n",
    "- Pooling layers (reduction of image)"
   ]
  },
  {
   "cell_type": "code",
   "execution_count": 2,
   "metadata": {},
   "outputs": [],
   "source": [
    "import torch\n",
    "import torch.nn as nn\n",
    "import torch.nn.functional as F\n",
    "import torchvision\n",
    "import torchvision.transforms as transforms\n",
    "import matplotlib.pyplot as plt\n",
    "import numpy as np\n",
    "\n",
    "import sys\n",
    "from torch.utils.tensorboard import SummaryWriter\n"
   ]
  },
  {
   "cell_type": "code",
   "execution_count": 3,
   "metadata": {},
   "outputs": [],
   "source": [
    "writer = SummaryWriter(\"runs/mnist\")"
   ]
  },
  {
   "cell_type": "code",
   "execution_count": 4,
   "metadata": {},
   "outputs": [
    {
     "name": "stdout",
     "output_type": "stream",
     "text": [
      "Downloading https://www.cs.toronto.edu/~kriz/cifar-10-python.tar.gz to ./data/cifar-10-python.tar.gz\n"
     ]
    },
    {
     "data": {
      "application/vnd.jupyter.widget-view+json": {
       "model_id": "56b55cd93342491ab77fb15bb31cece8",
       "version_major": 2,
       "version_minor": 0
      },
      "text/plain": [
       "HBox(children=(FloatProgress(value=1.0, bar_style='info', max=1.0), HTML(value='')))"
      ]
     },
     "metadata": {},
     "output_type": "display_data"
    },
    {
     "name": "stdout",
     "output_type": "stream",
     "text": [
      "Extracting ./data/cifar-10-python.tar.gz to ./data\n",
      "Files already downloaded and verified\n"
     ]
    }
   ],
   "source": [
    "# Device configuration\n",
    "device = torch.device('cuda' if torch.cuda.is_available() else 'cpu')\n",
    "\n",
    "# Hyper-parameters \n",
    "num_epochs = 5\n",
    "batch_size = 4\n",
    "learning_rate = 0.001\n",
    "\n",
    "# dataset has PILImage images of range [0, 1]. \n",
    "# We transform them to Tensors of normalized range [-1, 1]\n",
    "transform = transforms.Compose(\n",
    "    [transforms.ToTensor(),\n",
    "     transforms.Normalize((0.5, 0.5, 0.5), (0.5, 0.5, 0.5))])\n",
    "\n",
    "\n",
    "# CIFAR10: 60000 32x32 color images in 10 classes, with 6000 images per class\n",
    "train_dataset = torchvision.datasets.CIFAR10(root='./data', train=True,\n",
    "                                        download=True, transform=transform)\n",
    "\n",
    "test_dataset = torchvision.datasets.CIFAR10(root='./data', train=False,\n",
    "                                       download=True, transform=transform)\n",
    "\n",
    "train_loader = torch.utils.data.DataLoader(train_dataset, batch_size=batch_size,\n",
    "                                          shuffle=True)\n",
    "\n",
    "test_loader = torch.utils.data.DataLoader(test_dataset, batch_size=batch_size,\n",
    "                                         shuffle=False)\n",
    "\n",
    "classes = ('plane', 'car', 'bird', 'cat',\n",
    "           'deer', 'dog', 'frog', 'horse', 'ship', 'truck')\n"
   ]
  },
  {
   "cell_type": "code",
   "execution_count": 5,
   "metadata": {},
   "outputs": [
    {
     "data": {
      "image/png": "[encoded data removed]",
      "text/plain": [
       "<Figure size 432x288 with 1 Axes>"
      ]
     },
     "metadata": {
      "needs_background": "light"
     },
     "output_type": "display_data"
    }
   ],
   "source": [
    "def imshow(img):\n",
    "    img = img / 2 + 0.5  # unnormalize\n",
    "    npimg = img.numpy()\n",
    "    plt.imshow(np.transpose(npimg, (1, 2, 0)))\n",
    "    plt.show()\n",
    "\n",
    "\n",
    "# get some random training images\n",
    "dataiter = iter(train_loader)\n",
    "images, labels = dataiter.next()\n",
    "\n",
    "# show images\n",
    "imshow(torchvision.utils.make_grid(images))"
   ]
  },
  {
   "cell_type": "code",
   "execution_count": 6,
   "metadata": {},
   "outputs": [],
   "source": [
    "# implement conv net\n",
    "# use CNN architecture to do this\n",
    "# use a cnntest.py to figure out the sizes\n",
    "class ConvNet(nn.Module):\n",
    "    \n",
    "    def __init__(self):\n",
    "        super(ConvNet, self).__init__()\n",
    "        # 3 color channels -> input channel size\n",
    "        # 6 output channel size\n",
    "        # 5 kernel size\n",
    "        self.conv1 = nn.Conv2d(3, 6, 5)\n",
    "        # 2 by 2 kernel size so stride is 2\n",
    "        self.pool = nn.MaxPool2d(2, 2)\n",
    "        # second conv layer\n",
    "        self.conv2 = nn.Conv2d(6, 16, 5)\n",
    "        # fully connected layer\n",
    "        # It is very important to get the correct sizes\n",
    "        self.fc1 = nn.Linear(16*5*5, 120)\n",
    "        self.fc2 = nn.Linear(120, 84)\n",
    "        self.fc3 = nn.Linear(84, 10)\n",
    "        \n",
    "    def forward(self, x):\n",
    "        # first conv and pool layer\n",
    "        x = self.pool(F.relu(self.conv1(x)))\n",
    "        x = self.pool(F.relu(self.conv2(x)))\n",
    "        # flatten\n",
    "        x = x.view(-1, 16*5*5) # this will flatten the tensor\n",
    "        x = F.relu(self.fc1(x))\n",
    "        x = F.relu(self.fc2(x))\n",
    "        # no activation function at the end\n",
    "        # also no softmax because its included in the loss\n",
    "        x = self.fc3(x)\n",
    "        return x"
   ]
  },
  {
   "cell_type": "code",
   "execution_count": 7,
   "metadata": {},
   "outputs": [
    {
     "name": "stdout",
     "output_type": "stream",
     "text": [
      "Epoch [1/5], Step [2000/12500], Loss: 2.2859\n",
      "Epoch [1/5], Step [4000/12500], Loss: 2.3318\n",
      "Epoch [1/5], Step [6000/12500], Loss: 2.3235\n",
      "Epoch [1/5], Step [8000/12500], Loss: 2.2581\n",
      "Epoch [1/5], Step [10000/12500], Loss: 2.1718\n",
      "Epoch [1/5], Step [12000/12500], Loss: 2.2444\n",
      "Epoch [2/5], Step [2000/12500], Loss: 1.8007\n",
      "Epoch [2/5], Step [4000/12500], Loss: 1.7193\n",
      "Epoch [2/5], Step [6000/12500], Loss: 1.9754\n",
      "Epoch [2/5], Step [8000/12500], Loss: 2.0554\n",
      "Epoch [2/5], Step [10000/12500], Loss: 1.3801\n",
      "Epoch [2/5], Step [12000/12500], Loss: 1.8786\n",
      "Epoch [3/5], Step [2000/12500], Loss: 1.7450\n",
      "Epoch [3/5], Step [4000/12500], Loss: 1.1169\n",
      "Epoch [3/5], Step [6000/12500], Loss: 1.3124\n",
      "Epoch [3/5], Step [8000/12500], Loss: 1.8882\n",
      "Epoch [3/5], Step [10000/12500], Loss: 1.1870\n",
      "Epoch [3/5], Step [12000/12500], Loss: 2.1391\n",
      "Epoch [4/5], Step [2000/12500], Loss: 0.9011\n",
      "Epoch [4/5], Step [4000/12500], Loss: 0.6911\n",
      "Epoch [4/5], Step [6000/12500], Loss: 1.5283\n",
      "Epoch [4/5], Step [8000/12500], Loss: 2.0584\n",
      "Epoch [4/5], Step [10000/12500], Loss: 1.2333\n",
      "Epoch [4/5], Step [12000/12500], Loss: 1.0434\n",
      "Epoch [5/5], Step [2000/12500], Loss: 1.3090\n",
      "Epoch [5/5], Step [4000/12500], Loss: 2.5603\n",
      "Epoch [5/5], Step [6000/12500], Loss: 1.9573\n",
      "Epoch [5/5], Step [8000/12500], Loss: 0.7420\n",
      "Epoch [5/5], Step [10000/12500], Loss: 1.4808\n",
      "Epoch [5/5], Step [12000/12500], Loss: 2.5276\n",
      "Finished Training\n",
      "Accuracy of the network: 50.1 %\n",
      "Accuracy of plane: 45.1 %\n",
      "Accuracy of car: 56.1 %\n",
      "Accuracy of bird: 40.8 %\n",
      "Accuracy of cat: 36.0 %\n",
      "Accuracy of deer: 26.1 %\n",
      "Accuracy of dog: 49.0 %\n",
      "Accuracy of frog: 53.3 %\n",
      "Accuracy of horse: 61.7 %\n",
      "Accuracy of ship: 62.3 %\n",
      "Accuracy of truck: 70.6 %\n"
     ]
    }
   ],
   "source": [
    "model = ConvNet().to(device)\n",
    "\n",
    "criterion = nn.CrossEntropyLoss() # softmax included here\n",
    "optimizer = torch.optim.SGD(model.parameters(), lr=learning_rate)\n",
    "\n",
    "\n",
    "writer.add_graph(model, images)\n",
    "writer.close()\n",
    "\n",
    "\n",
    "n_total_steps = len(train_loader)\n",
    "for epoch in range(num_epochs):\n",
    "    for i, (images, labels) in enumerate(train_loader):\n",
    "        # origin shape: [4, 3, 32, 32] = 4, 3, 1024\n",
    "        # input_layer: 3 input channels, 6 output channels, 5 kernel size\n",
    "        images = images.to(device)\n",
    "        labels = labels.to(device)\n",
    "\n",
    "        # Forward pass\n",
    "        outputs = model(images)\n",
    "        loss = criterion(outputs, labels)\n",
    "\n",
    "        # Backward and optimize\n",
    "        optimizer.zero_grad() # don't forget to zero gradients\n",
    "        loss.backward()\n",
    "        optimizer.step()\n",
    "\n",
    "        if (i+1) % 2000 == 0:\n",
    "            print (f'Epoch [{epoch+1}/{num_epochs}], Step [{i+1}/{n_total_steps}], Loss: {loss.item():.4f}')\n",
    "\n",
    "print('Finished Training')\n",
    "PATH = './cnn.pth'\n",
    "torch.save(model.state_dict(), PATH)\n",
    "\n",
    "# avoid backward propagation when calculating accuracies\n",
    "with torch.no_grad():\n",
    "    n_correct = 0\n",
    "    n_samples = 0\n",
    "    n_class_correct = [0 for i in range(10)]\n",
    "    n_class_samples = [0 for i in range(10)]\n",
    "    for images, labels in test_loader:\n",
    "        images = images.to(device)\n",
    "        labels = labels.to(device)\n",
    "        outputs = model(images)\n",
    "        # max returns (value ,index)\n",
    "        _, predicted = torch.max(outputs, 1)\n",
    "        n_samples += labels.size(0)\n",
    "        n_correct += (predicted == labels).sum().item()\n",
    "        \n",
    "        for i in range(batch_size):\n",
    "            label = labels[i]\n",
    "            pred = predicted[i]\n",
    "            if (label == pred):\n",
    "                n_class_correct[label] += 1\n",
    "            n_class_samples[label] += 1\n",
    "\n",
    "    acc = 100.0 * n_correct / n_samples\n",
    "    print(f'Accuracy of the network: {acc} %')\n",
    "\n",
    "    for i in range(10):\n",
    "        acc = 100.0 * n_class_correct[i] / n_class_samples[i]\n",
    "        print(f'Accuracy of {classes[i]}: {acc} %')"
   ]
  },
  {
   "cell_type": "code",
   "execution_count": null,
   "metadata": {},
   "outputs": [],
   "source": []
  }
 ],
 "metadata": {
  "kernelspec": {
   "display_name": "Python 3",
   "language": "python",
   "name": "python3"
  },
  "language_info": {
   "codemirror_mode": {
    "name": "ipython",
    "version": 3
   },
   "file_extension": ".py",
   "mimetype": "text/x-python",
   "name": "python",
   "nbconvert_exporter": "python",
   "pygments_lexer": "ipython3",
   "version": "3.7.6"
  }
 },
 "nbformat": 4,
 "nbformat_minor": 4
}
