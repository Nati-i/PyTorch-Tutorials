{
 "cells": [
  {
   "cell_type": "code",
   "execution_count": 1,
   "metadata": {},
   "outputs": [
    {
     "data": {
      "text/plain": [
       "'\\n1. Design model (input, output size, forward pass)\\n2. Construct loss and optimizer\\n3. Training loop\\n    - forward pass: compute prediciton\\n    - backward pass: gradients (pytorch does this automatically)\\n    - update weights\\n'"
      ]
     },
     "execution_count": 1,
     "metadata": {},
     "output_type": "execute_result"
    }
   ],
   "source": [
    "\"\"\"\n",
    "1. Design model (input, output size, forward pass)\n",
    "2. Construct loss and optimizer\n",
    "3. Training loop\n",
    "    - forward pass: compute prediciton\n",
    "    - backward pass: gradients (pytorch does this automatically)\n",
    "    - update weights\n",
    "\"\"\""
   ]
  },
  {
   "cell_type": "code",
   "execution_count": 2,
   "metadata": {},
   "outputs": [],
   "source": [
    "import torch\n",
    "import torch.nn as nn"
   ]
  },
  {
   "cell_type": "code",
   "execution_count": 12,
   "metadata": {},
   "outputs": [
    {
     "name": "stdout",
     "output_type": "stream",
     "text": [
      "Prediction before training: f(5) = -4.035\n",
      "epoch 1: w = -0.242, loss = 62.89649963\n",
      "epoch 11: w = 1.576, loss = 1.63531363\n",
      "epoch 21: w = 1.871, loss = 0.04987219\n",
      "epoch 31: w = 1.920, loss = 0.00841289\n",
      "epoch 41: w = 1.930, loss = 0.00692565\n",
      "epoch 51: w = 1.933, loss = 0.00649676\n",
      "epoch 61: w = 1.935, loss = 0.00611794\n",
      "epoch 71: w = 1.937, loss = 0.00576182\n",
      "epoch 81: w = 1.939, loss = 0.00542645\n",
      "epoch 91: w = 1.941, loss = 0.00511060\n",
      "Prediction after training: f(5) = 9.881\n"
     ]
    }
   ],
   "source": [
    "\n",
    "# data sets\n",
    "X = torch.tensor([[1], [2], [3], [4]], dtype=torch.float32)\n",
    "Y = torch.tensor([[2], [4], [6], [8]], dtype=torch.float32)\n",
    "\n",
    "n_samples, n_features = X.shape\n",
    "\n",
    "input_size = n_features\n",
    "output_size = n_features\n",
    "\n",
    "# model prediction using pytorch model\n",
    "model = nn.Linear(input_size, output_size)\n",
    "\n",
    "X_test = torch.tensor([5],dtype=torch.float32)\n",
    "# we don't need the gradient anymoreb\n",
    "\n",
    "print(f'Prediction before training: f(5) = {model(X_test).item():.3f}')\n",
    "      \n",
    "# traning\n",
    "learning_rate = 0.01\n",
    "n_iters = 100\n",
    "\n",
    "loss = nn.MSELoss() # -> callable function\n",
    "optimizer = torch.optim.SGD(model.parameters(), lr=learning_rate)\n",
    "\n",
    "for epoch in range(n_iters):\n",
    "    # prediction = forward pass\n",
    "    y_pred = model(X)\n",
    "    \n",
    "    # loss\n",
    "    l = loss(Y, y_pred)\n",
    "    \n",
    "    # gradients\n",
    "    #dw = gradient(X,Y, y_pred)\n",
    "    l.backward() # dl/dw -> Pytorch does this automatically\n",
    "    \n",
    "    # update weights using update formula using gradient descent alg.\n",
    "    optimizer.step() #-> This does an optimiziation step\n",
    "    \n",
    "    # zero gradients before next iterations\n",
    "    optimizer.zero_grad()\n",
    "    \n",
    "    if epoch % 10 == 0: # printing every step\n",
    "        [w, b] = model.parameters()\n",
    "        print(f'epoch {epoch+1}: w = {w[0][0].item():.3f}, loss = {l:.8f}')\n",
    "        \n",
    "print(f'Prediction after training: f(5) = {model(X_test).item():.3f}')\n"
   ]
  },
  {
   "cell_type": "markdown",
   "metadata": {},
   "source": [
    "# Making a custom model"
   ]
  },
  {
   "cell_type": "code",
   "execution_count": 13,
   "metadata": {},
   "outputs": [
    {
     "name": "stdout",
     "output_type": "stream",
     "text": [
      "Prediction before training: f(5) = 0.025\n",
      "epoch 1: w = 0.350, loss = 30.69696045\n",
      "epoch 11: w = 1.622, loss = 0.81974411\n",
      "epoch 21: w = 1.830, loss = 0.04526287\n",
      "epoch 31: w = 1.867, loss = 0.02382504\n",
      "epoch 41: w = 1.876, loss = 0.02195184\n",
      "epoch 51: w = 1.881, loss = 0.02066156\n",
      "epoch 61: w = 1.884, loss = 0.01945858\n",
      "epoch 71: w = 1.888, loss = 0.01832600\n",
      "epoch 81: w = 1.891, loss = 0.01725932\n",
      "epoch 91: w = 1.894, loss = 0.01625475\n",
      "Prediction after training: f(5) = 9.788\n"
     ]
    }
   ],
   "source": [
    "\n",
    "# data sets\n",
    "X = torch.tensor([[1], [2], [3], [4]], dtype=torch.float32)\n",
    "Y = torch.tensor([[2], [4], [6], [8]], dtype=torch.float32)\n",
    "\n",
    "n_samples, n_features = X.shape\n",
    "\n",
    "input_size = n_features\n",
    "output_size = n_features\n",
    "\n",
    "\n",
    "# if we need a custom linear regression model\n",
    "class LinearRegression(nn.Module):\n",
    "    \n",
    "    def __init__(self, input_dim, output_dim):\n",
    "        super(LinearRegression, self).__init__()\n",
    "        \n",
    "        # define layers\n",
    "        self.lin = nn.Linear(input_dim, output_dim)\n",
    "    \n",
    "    def forward(self, x):\n",
    "        return self.lin(x)\n",
    "    \n",
    "model = LinearRegression(input_size, output_size)\n",
    "        \n",
    "X_test = torch.tensor([5],dtype=torch.float32)\n",
    "# we don't need the gradient anymoreb\n",
    "\n",
    "print(f'Prediction before training: f(5) = {model(X_test).item():.3f}')\n",
    "      \n",
    "# traning\n",
    "learning_rate = 0.01\n",
    "n_iters = 100\n",
    "\n",
    "loss = nn.MSELoss() # -> callable function\n",
    "optimizer = torch.optim.SGD(model.parameters(), lr=learning_rate)\n",
    "\n",
    "for epoch in range(n_iters):\n",
    "    # prediction = forward pass\n",
    "    y_pred = model(X)\n",
    "    \n",
    "    # loss\n",
    "    l = loss(Y, y_pred)\n",
    "    \n",
    "    # gradients\n",
    "    #dw = gradient(X,Y, y_pred)\n",
    "    l.backward() # dl/dw -> Pytorch does this automatically\n",
    "    \n",
    "    # update weights using update formula using gradient descent alg.\n",
    "    optimizer.step() #-> This does an optimiziation step\n",
    "    \n",
    "    # zero gradients before next iterations\n",
    "    optimizer.zero_grad()\n",
    "    \n",
    "    if epoch % 10 == 0: # printing every step\n",
    "        [w, b] = model.parameters()\n",
    "        print(f'epoch {epoch+1}: w = {w[0][0].item():.3f}, loss = {l:.8f}')\n",
    "        \n",
    "print(f'Prediction after training: f(5) = {model(X_test).item():.3f}')\n"
   ]
  },
  {
   "cell_type": "code",
   "execution_count": null,
   "metadata": {},
   "outputs": [],
   "source": []
  }
 ],
 "metadata": {
  "kernelspec": {
   "display_name": "Python 3",
   "language": "python",
   "name": "python3"
  },
  "language_info": {
   "codemirror_mode": {
    "name": "ipython",
    "version": 3
   },
   "file_extension": ".py",
   "mimetype": "text/x-python",
   "name": "python",
   "nbconvert_exporter": "python",
   "pygments_lexer": "ipython3",
   "version": "3.7.6"
  }
 },
 "nbformat": 4,
 "nbformat_minor": 4
}
