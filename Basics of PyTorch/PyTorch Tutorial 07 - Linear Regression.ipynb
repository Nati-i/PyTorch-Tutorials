{
 "cells": [
  {
   "cell_type": "markdown",
   "metadata": {},
   "source": [
    "# Implementing Linear Regression\\\n",
    "\n",
    "1. Design model (input, output size, forward pass)\n",
    "2. Construct loss and optimizer\n",
    "3. Training loop\n",
    "    - forward pass: compute prediciton\n",
    "    - backward pass: gradients (pytorch does this automatically)\n",
    "    - update weights\n"
   ]
  },
  {
   "cell_type": "code",
   "execution_count": 2,
   "metadata": {},
   "outputs": [
    {
     "name": "stderr",
     "output_type": "stream",
     "text": [
      "/Users/natitaw/opt/anaconda3/lib/python3.7/importlib/_bootstrap.py:219: RuntimeWarning: numpy.ufunc size changed, may indicate binary incompatibility. Expected 192 from C header, got 216 from PyObject\n",
      "  return f(*args, **kwds)\n"
     ]
    }
   ],
   "source": [
    "import torch\n",
    "import torch.nn as nn\n",
    "import numpy as np\n",
    "from sklearn import datasets\n",
    "import matplotlib.pyplot as plt"
   ]
  },
  {
   "cell_type": "code",
   "execution_count": 4,
   "metadata": {},
   "outputs": [],
   "source": [
    "# 0. prepare data\n",
    "X_numpy, y_numpy = datasets.make_regression(n_samples=100, \n",
    "                                            n_features=1, noise=20,\n",
    "                                           random_state=1)\n",
    "\n",
    "X = torch.from_numpy(X_numpy.astype(np.float32))\n",
    "y = torch.from_numpy(y_numpy.astype(np.float32))\n",
    "\n",
    "# reshape\n",
    "y = y.view(y.shape[0], 1) # view method used to reshape tensor\n",
    "\n",
    "n_samples, n_features = X.shape"
   ]
  },
  {
   "cell_type": "code",
   "execution_count": 5,
   "metadata": {},
   "outputs": [
    {
     "name": "stdout",
     "output_type": "stream",
     "text": [
      "epoch: 10, loss = 4362.7305\n",
      "epoch: 20, loss = 3256.7180\n",
      "epoch: 30, loss = 2456.0537\n",
      "epoch: 40, loss = 1875.8397\n",
      "epoch: 50, loss = 1454.9783\n",
      "epoch: 60, loss = 1149.4353\n",
      "epoch: 70, loss = 927.4318\n",
      "epoch: 80, loss = 766.0070\n",
      "epoch: 90, loss = 648.5499\n",
      "epoch: 100, loss = 563.0309\n"
     ]
    },
    {
     "data": {
      "image/png": "[encoded data removed]",
      "text/plain": [
       "<Figure size 432x288 with 1 Axes>"
      ]
     },
     "metadata": {
      "needs_background": "light"
     },
     "output_type": "display_data"
    }
   ],
   "source": [
    "# 1. model\n",
    "input_size = n_features\n",
    "output_size = 1\n",
    "model = nn.Linear(input_size, output_size)\n",
    "\n",
    "# 2. loss optimizer\n",
    "learning_rate = 0.01\n",
    "criterion = nn.MSELoss() # this will calculate the MSE\n",
    "optimizer = torch.optim.SGD(model.parameters(), lr=learning_rate)\n",
    "\n",
    "# 3. training loop\n",
    "num_epochs = 100\n",
    "\n",
    "# forward pass: compute prediciton\n",
    "# backward pass: gradients (pytorch does this automatically)\n",
    "# update weights\n",
    "for epoch in range(num_epochs):\n",
    "    # forward pass and loss\n",
    "    y_predicted = model(X)\n",
    "    loss = criterion(y_predicted, y)\n",
    "    \n",
    "    # backward pass\n",
    "    loss.backward() # this does the back prop and calculate grads\n",
    "    \n",
    "    #update\n",
    "    optimizer.step()\n",
    "    #empty\n",
    "    optimizer.zero_grad()\n",
    "    \n",
    "    # print some information\n",
    "    if (epoch+1) % 10 == 0: #every 10th step\n",
    "        print(f'epoch: {epoch+1}, loss = {loss.item():.4f}')\n",
    "        \n",
    "# plot\n",
    "# detaching tensor so that it is not tracked in the computation graph\n",
    "predicted = model(X).detach().numpy()\n",
    "plt.plot(X_numpy, y_numpy, 'ro')\n",
    "plt.plot(X_numpy, predicted, 'b')\n",
    "plt.show()"
   ]
  },
  {
   "cell_type": "code",
   "execution_count": null,
   "metadata": {},
   "outputs": [],
   "source": []
  }
 ],
 "metadata": {
  "kernelspec": {
   "display_name": "Python 3",
   "language": "python",
   "name": "python3"
  },
  "language_info": {
   "codemirror_mode": {
    "name": "ipython",
    "version": 3
   },
   "file_extension": ".py",
   "mimetype": "text/x-python",
   "name": "python",
   "nbconvert_exporter": "python",
   "pygments_lexer": "ipython3",
   "version": "3.7.6"
  }
 },
 "nbformat": 4,
 "nbformat_minor": 4
}
