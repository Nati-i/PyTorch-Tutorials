{
 "cells": [
  {
   "cell_type": "markdown",
   "metadata": {},
   "source": [
    "# Activation Functions\n",
    "\n",
    "- Apply a non-linear transformation\n",
    "- We do this because we don't want a model that only contains linear transformations\n",
    "- Non-linear transfomrations allow the model to learn more complex phenomena\n",
    "\n",
    "- Most popular activation functions\n",
    "    - Step function (not used in practice)\n",
    "    - Sigmoid function (typicially used in last layer of binary calssification problems)\n",
    "    - TanH function (between -1 and +1)\n",
    "    - ReLU (most popular choice) (could cause dead neurons, vanishing gradient)\n",
    "    - Leaky ReLU (improved ReLU, attempts to solve vanishing gradient problem)\n",
    "    - Softmax (good choice for last layer of classification problem)\n",
    "    \n",
    "Rule of thumb: if you don't know which to use then use ReLU"
   ]
  },
  {
   "cell_type": "code",
   "execution_count": null,
   "metadata": {},
   "outputs": [],
   "source": [
    "import numpy as np\n",
    "import torch\n",
    "import torch.nn as nn\n",
    "# sometimes the functions are in torch.nn.functional (such as leaky relu)\n",
    "import torch.nn.functional as F\n",
    "\n",
    "# option 1\n",
    "class NeuralNet(nn.Module):\n",
    "    def __init__(self, input_size, hidden_size):\n",
    "        super(NeuralNet, self).__init__()\n",
    "        self.linear1 = nn.Linear(input_size, hidden_size) \n",
    "        self.relu = nn.ReLU()\n",
    "        self.linear2 = nn.Linear(hidden_size, 1)  \n",
    "        self.sigmoid = nn.Sigmoid()\n",
    "    \n",
    "    def forward(self, x):\n",
    "        out = self.linear1(x)\n",
    "        out = self.relu(out)\n",
    "        out = self.linear2(out)\n",
    "        out = self.sigmoid(out)\n",
    "        # no softmax at the end\n",
    "        return out\n",
    "\n",
    "# option 2\n",
    "class NeuralNet(nn.Module):\n",
    "    def __init__(self, input_size, hidden_size):\n",
    "        super(NeuralNet, self).__init__()\n",
    "        self.linear1 = nn.Linear(input_size, hidden_size)\n",
    "        self.linear2 = nn.Linear(hidden_size, 1)  \n",
    "    \n",
    "    def forward(self, x):\n",
    "        out = torch.relu(self.linear1(x))\n",
    "        out = torch.sigmoid(self.linear2(out))\n",
    "        # no softmax at the end\n",
    "        return out"
   ]
  }
 ],
 "metadata": {
  "kernelspec": {
   "display_name": "Python 3",
   "language": "python",
   "name": "python3"
  },
  "language_info": {
   "codemirror_mode": {
    "name": "ipython",
    "version": 3
   },
   "file_extension": ".py",
   "mimetype": "text/x-python",
   "name": "python",
   "nbconvert_exporter": "python",
   "pygments_lexer": "ipython3",
   "version": "3.7.6"
  }
 },
 "nbformat": 4,
 "nbformat_minor": 4
}
