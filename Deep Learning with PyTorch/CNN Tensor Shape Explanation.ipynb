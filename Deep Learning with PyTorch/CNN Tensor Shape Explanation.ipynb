{
 "cells": [
  {
   "cell_type": "markdown",
   "metadata": {},
   "source": [
    "# Tensors\n",
    "## Explaining Tensors Using a CNN Example\n",
    "\n",
    "- [?, color, height, width]\n",
    "- [3, 1, 28, 28] -> 3 images, each with one color scheme (greyscale), each with a dim of 28*28\n",
    "- The tensors change shape as they propagate through the networks so it is important to reshape them correctly \n",
    "    - Eg. color channels -> [filter] -> feature maps\n",
    "- Data must be passed through pre-processing routines to transform it to efficient tensor formats\n",
    "- PyTorch Tensors have some specific attributes\n",
    "    - dtype: data type of tensor float32, etc.\n",
    "    - devcie: device on tensor\n",
    "    - layout: tells about how tensors are laid out on memory\n",
    "- Tensor computations must be of the same data type (i.e int + int = okay), and also must be on the same device\n",
    "\n"
   ]
  },
  {
   "cell_type": "code",
   "execution_count": 1,
   "metadata": {},
   "outputs": [
    {
     "name": "stdout",
     "output_type": "stream",
     "text": [
      "torch.float32\n",
      "cpu\n",
      "torch.strided\n"
     ]
    }
   ],
   "source": [
    "import torch\n",
    "import torch.nn as nn\n",
    "import numpy as np\n",
    "\n",
    "t = torch.Tensor()\n",
    "print(t.dtype)\n",
    "print(t.device)\n",
    "print(t.layout)"
   ]
  },
  {
   "cell_type": "markdown",
   "metadata": {},
   "source": [
    "## What are the best options of creating PyTorch Tensors?\n",
    "\n",
    "- PyTorch has several ways which we can use to create tensors\n",
    "- All functions (except for the constructor method torch.Tensor()) allow us to set a dtype for our data\n",
    "- Some functions allow you to modify arrays without influencing tensors and viceversa\n",
    "    - zero memory-copy -> very efficient\n",
    "        - torch.as_tensor() -> go to function of choice for this category\n",
    "        - torch.from_numpy() -> only accepts numpy arrays\n",
    "    - Simply copying data\n",
    "        - torch.tensor() -> go to function of choice\n",
    "        - torch.Tensory()"
   ]
  },
  {
   "cell_type": "code",
   "execution_count": 6,
   "metadata": {},
   "outputs": [
    {
     "name": "stdout",
     "output_type": "stream",
     "text": [
      "torch.float32\n",
      "torch.int64\n",
      "torch.int64\n",
      "torch.int64\n"
     ]
    }
   ],
   "source": [
    "data = np.array([1,2,3])\n",
    "# class constructor, uses global default dtype -> float32\n",
    "t1 = torch.Tensor(data)\n",
    "# factory function, OOP\n",
    "t2 = torch.tensor(data)\n",
    "# factory function\n",
    "t3 = torch.as_tensor(data)\n",
    "# factory function\n",
    "t4 = torch.from_numpy(data)\n",
    "print(t1.dtype, t2.dtype, t3.dtype, t4.dtype, sep='\\n')"
   ]
  },
  {
   "cell_type": "markdown",
   "metadata": {},
   "source": [
    "## Tensor Operations\n",
    "\n",
    "1. Reshaping Operations\n",
    "    - Mold and modify tensors into the shape you desire\n",
    "    - You can reshape a tensor as many ways as there are factors of the number of elements\n",
    "        - i.e. 12 elements -> (12 = 12*1; 6*2; 4*3) 6 reshapes (order matters too)\n",
    "    - Another way of reshaping is to squeeze and then unsqueeze to the desired tensor\n",
    "2. Element-wise Operations\n",
    "3. Reduction Operations\n",
    "4. Access Operations\n",
    "\n",
    "- Tensors need to be flattened before they are passed to a fully connected layer in a CNN\n",
    "    - My chromatograms are already flat, perhaps the baseline can be viewd as another channel"
   ]
  },
  {
   "cell_type": "code",
   "execution_count": 17,
   "metadata": {},
   "outputs": [
    {
     "name": "stdout",
     "output_type": "stream",
     "text": [
      "torch.Size([3, 4])\n",
      "torch.Size([3, 4])\n",
      "2\n",
      "tensor(12)\n",
      "12\n"
     ]
    }
   ],
   "source": [
    "t = torch.tensor([\n",
    "    [1, 1, 1, 1],\n",
    "    [2, 2, 2, 2],\n",
    "    [3, 3, 3, 3]\n",
    "], dtype=torch.float32)\n",
    "print(\n",
    "    t.size(),\n",
    "    t.shape,\n",
    "    len(t.shape), # rank of tensor\n",
    "    torch.tensor(t.shape).prod(), # number of elements\n",
    "    t.numel(), # number of elements\n",
    "sep='\\n')"
   ]
  },
  {
   "cell_type": "code",
   "execution_count": 25,
   "metadata": {},
   "outputs": [
    {
     "name": "stdout",
     "output_type": "stream",
     "text": [
      "tensor([[1., 1., 1., 1.],\n",
      "        [2., 2., 2., 2.],\n",
      "        [3., 3., 3., 3.]])\n",
      "tensor([[1., 1., 1., 1., 2., 2., 2., 2., 3., 3., 3., 3.]])\n",
      "tensor([[1., 1., 1.],\n",
      "        [1., 2., 2.],\n",
      "        [2., 2., 3.],\n",
      "        [3., 3., 3.]])\n",
      "tensor([1., 1., 1., 1., 2., 2., 2., 2., 3., 3., 3., 3.])\n",
      "tensor([1., 1., 1., 1., 2., 2., 2., 2., 3., 3., 3., 3.])\n"
     ]
    }
   ],
   "source": [
    "# reshapes\n",
    "print(\n",
    "     t,\n",
    "     t.reshape(1,12),\n",
    "     #t.reshape(2,6), \n",
    "     #t.reshape(3,4),\n",
    "     t.reshape(4,3),\n",
    "     #t.reshape(6,2),\n",
    "     #t.reshape(12,1),\n",
    "sep='\\n')\n",
    "\n",
    "# flattening tensors\n",
    "# useful for fully connected NN after convolutional layers\n",
    "# the way it works is implemented as follows:\n",
    "def flatten(t):\n",
    "    t = t.reshape(1, -1)\n",
    "    t = t.squeeze()\n",
    "    return t\n",
    "print(t.flatten()) # 1d array containing all scalars\n",
    "#print(flatten(t))\n"
   ]
  },
  {
   "cell_type": "code",
   "execution_count": 34,
   "metadata": {},
   "outputs": [
    {
     "name": "stdout",
     "output_type": "stream",
     "text": [
      "tensor([[[1, 1, 1],\n",
      "         [1, 1, 1],\n",
      "         [1, 1, 1]],\n",
      "\n",
      "        [[2, 2, 2],\n",
      "         [2, 2, 2],\n",
      "         [2, 2, 2]],\n",
      "\n",
      "        [[3, 3, 3],\n",
      "         [3, 3, 3],\n",
      "         [3, 3, 3]]])\n",
      "torch.Size([3, 3, 3]) -> batch = 3\n"
     ]
    },
    {
     "data": {
      "text/plain": [
       "tensor([[[[1, 1, 1],\n",
       "          [1, 1, 1],\n",
       "          [1, 1, 1]]],\n",
       "\n",
       "\n",
       "        [[[2, 2, 2],\n",
       "          [2, 2, 2],\n",
       "          [2, 2, 2]]],\n",
       "\n",
       "\n",
       "        [[[3, 3, 3],\n",
       "          [3, 3, 3],\n",
       "          [3, 3, 3]]]])"
      ]
     },
     "execution_count": 34,
     "metadata": {},
     "output_type": "execute_result"
    }
   ],
   "source": [
    "# batch and tensors\n",
    "t1 = torch.tensor([\n",
    "    [1, 1, 1],\n",
    "    [1, 1, 1], \n",
    "    [1, 1, 1]\n",
    "])\n",
    "\n",
    "t2 = torch.tensor([\n",
    "    [2, 2, 2],\n",
    "    [2, 2, 2], \n",
    "    [2, 2, 2]\n",
    "])\n",
    "\n",
    "t3 = torch.tensor([\n",
    "    [3, 3, 3],\n",
    "    [3, 3, 3], \n",
    "    [3, 3, 3]\n",
    "])\n",
    "\n",
    "t = torch.stack((t1,t2,t3))\n",
    "print(t)\n",
    "print(t.shape, '-> batch = 3')\n",
    "\n",
    "t.reshape(3, 1, 3, 3)"
   ]
  },
  {
   "cell_type": "code",
   "execution_count": null,
   "metadata": {},
   "outputs": [],
   "source": []
  }
 ],
 "metadata": {
  "kernelspec": {
   "display_name": "Python 3",
   "language": "python",
   "name": "python3"
  },
  "language_info": {
   "codemirror_mode": {
    "name": "ipython",
    "version": 3
   },
   "file_extension": ".py",
   "mimetype": "text/x-python",
   "name": "python",
   "nbconvert_exporter": "python",
   "pygments_lexer": "ipython3",
   "version": "3.7.6"
  }
 },
 "nbformat": 4,
 "nbformat_minor": 4
}
