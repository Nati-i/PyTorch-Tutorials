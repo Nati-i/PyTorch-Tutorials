{
 "cells": [
  {
   "cell_type": "markdown",
   "metadata": {},
   "source": [
    "# The Role of Data in Software Development\n",
    "\n",
    "<blockquote> Machines have drunk (have been fed with) electricity for long, now they will have (to be fed) data. If you want to make machines smart, they must drink data. Without data, innovation society is impossible. </blockquote>    \n",
    "\n",
    "    \n",
    "<p>Software development is going through a paradigm shift. Instead of a programmer having to define a set of instructions and constraints, the programmer is now guiding the software write itself using data with the aid of statistical learning algorithms. </p>\n",
    "\n",
    "<blockquote> In the past, your source code is your code. In the future, your source code is your data. </blockquote>"
   ]
  },
  {
   "cell_type": "code",
   "execution_count": null,
   "metadata": {},
   "outputs": [],
   "source": []
  },
  {
   "cell_type": "code",
   "execution_count": null,
   "metadata": {},
   "outputs": [],
   "source": []
  }
 ],
 "metadata": {
  "kernelspec": {
   "display_name": "Python 3",
   "language": "python",
   "name": "python3"
  },
  "language_info": {
   "codemirror_mode": {
    "name": "ipython",
    "version": 3
   },
   "file_extension": ".py",
   "mimetype": "text/x-python",
   "name": "python",
   "nbconvert_exporter": "python",
   "pygments_lexer": "ipython3",
   "version": "3.7.6"
  }
 },
 "nbformat": 4,
 "nbformat_minor": 4
}
