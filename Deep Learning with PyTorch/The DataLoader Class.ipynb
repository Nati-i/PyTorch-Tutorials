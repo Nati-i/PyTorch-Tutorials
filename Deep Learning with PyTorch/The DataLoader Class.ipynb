{
 "cells": [
  {
   "cell_type": "markdown",
   "metadata": {},
   "source": [
    "# The DataLoader Class by Debugging\n",
    "\n",
    "- The DataLoader class implements a lot of python functions, such as next, getitem, etc, os that we can use it to manipulate data\n",
    "- If Shuffle value is True, then the DataLoader will use a random sampler\n",
    "    - Otherwise a sequencer will be used\n",
    "- The next() method is implemented in the PyTorch module, it's not the python function\n",
    "- There is a get_item() method in the data class that defines how the data is indexed\n",
    "    - The MNIST Class loads all data on memory (which means you need enough memory)\n",
    "- The alternative is to read from disk using file path data\n",
    "    - This is implemented in the __getitem__(self, index) method"
   ]
  },
  {
   "cell_type": "code",
   "execution_count": null,
   "metadata": {},
   "outputs": [],
   "source": [
    "# Debugging Code\n",
    "import torch\n",
    "import torchvision\n",
    "import torchvision.transforms as transforms\n",
    "import torch.nn as nn\n",
    "\n",
    "from torch.utils.data import DataLoader\n",
    "\n",
    "mean = 0.28590065240859985\n",
    "std = 0.3513832092285156\n",
    "\n",
    "train_set_normal = torchvision.datasets.FashionMNIST(\n",
    "    root='./Documents/data'\n",
    "     ,train=True\n",
    "    ,download=True # downloads it locally (checks existence beforehand)\n",
    "    ,transform=transforms.Compose([\n",
    "        transforms.ToTensor(), # butilt in tensor transformer\n",
    "        # TODO: Normalize\n",
    "        transforms.Normalize(mean, std)\n",
    "    ])\n",
    ")\n",
    "\n",
    "loader = DataLoader(train_set, batch_size=1)\n",
    "image, label = next(iter(loader))\n",
    "\n",
    "print(image.shape)"
   ]
  }
 ],
 "metadata": {
  "kernelspec": {
   "display_name": "Python 3",
   "language": "python",
   "name": "python3"
  },
  "language_info": {
   "codemirror_mode": {
    "name": "ipython",
    "version": 3
   },
   "file_extension": ".py",
   "mimetype": "text/x-python",
   "name": "python",
   "nbconvert_exporter": "python",
   "pygments_lexer": "ipython3",
   "version": "3.7.6"
  }
 },
 "nbformat": 4,
 "nbformat_minor": 4
}
