{
 "cells": [
  {
   "cell_type": "markdown",
   "metadata": {},
   "source": [
    "# PyTorch Sequential Models\n",
    "\n",
    "- We can compose neural network sequential modules togheter\n",
    "    - Encapsulating them together\n",
    "- Building networks and parts of networks \n",
    "- The nn.functional module contains all the functions we need, and we can call them whenever\n",
    "- There are three ways to create sequestion models\n",
    "    1. Initializtion method with layers\n",
    "    2. Using OrderedDict\n",
    "    3. Initializatino without layers then adding layers afterwards\n",
    "    4. Using PyTorch classes"
   ]
  },
  {
   "cell_type": "code",
   "execution_count": 1,
   "metadata": {},
   "outputs": [],
   "source": [
    "import torch\n",
    "import torch.nn as nn\n",
    "import torch.nn.functional as F\n",
    "\n",
    "import torchvision\n",
    "import torchvision.transforms as transforms\n",
    "\n",
    "import matplotlib.pyplot as plt\n",
    "import math\n",
    "\n",
    "from collections import OrderedDict\n"
   ]
  },
  {
   "cell_type": "code",
   "execution_count": 9,
   "metadata": {},
   "outputs": [
    {
     "name": "stdout",
     "output_type": "stream",
     "text": [
      "torch.Size([1, 28, 28])\n",
      "Ankle boot\n",
      "T-shirt/top\tTrouser\tPullover\tDress\tCoat\tSandal\tShirt\tSneaker\tBag\tAnkle boot\n"
     ]
    },
    {
     "data": {
      "image/png": "[encoded data removed]",
      "text/plain": [
       "<Figure size 432x288 with 1 Axes>"
      ]
     },
     "metadata": {
      "needs_background": "light"
     },
     "output_type": "display_data"
    }
   ],
   "source": [
    "train_set = torchvision.datasets.FashionMNIST(\n",
    "    root='./Documents/data'\n",
    "     ,train=True\n",
    "    ,download=True # downloads it locally (checks existence beforehand)\n",
    "    ,transform=transforms.Compose([\n",
    "        transforms.ToTensor()\n",
    "    ])\n",
    ")\n",
    "\n",
    "image, label = train_set[0]\n",
    "print(image.shape)\n",
    "print(train_set.classes[label])\n",
    "\n",
    "plt.imshow(image.squeeze(), cmap='gray')\n",
    "\n",
    "print(*train_set.classes, sep='\\t')"
   ]
  },
  {
   "cell_type": "code",
   "execution_count": 10,
   "metadata": {},
   "outputs": [],
   "source": [
    "# In and out features\n",
    "in_features = image.numel() # number of pixels -> 28 * 28\n",
    "out_features = math.floor(in_features / 2) # somewhat arbitrary choice, starting high, filtered down by half\n",
    "\n",
    "out_classes = len(train_set.classes)"
   ]
  },
  {
   "cell_type": "markdown",
   "metadata": {},
   "source": [
    "#### First way of creating sequenstion networks"
   ]
  },
  {
   "cell_type": "code",
   "execution_count": 11,
   "metadata": {},
   "outputs": [
    {
     "name": "stdout",
     "output_type": "stream",
     "text": [
      "Sequential(\n",
      "  (0): Flatten()\n",
      "  (1): Linear(in_features=784, out_features=392, bias=True)\n",
      "  (2): Linear(in_features=392, out_features=10, bias=True)\n",
      ")\n"
     ]
    }
   ],
   "source": [
    "network1 = nn.Sequential(\n",
    "    nn.Flatten(start_dim=1),\n",
    "    nn.Linear(in_features, out_features),\n",
    "    nn.Linear(out_features, out_classes)\n",
    ")\n",
    "\n",
    "print(network1)"
   ]
  },
  {
   "cell_type": "code",
   "execution_count": 17,
   "metadata": {},
   "outputs": [
    {
     "data": {
      "text/plain": [
       "tensor([[ 0.3404,  0.1256,  0.0490, -0.0484, -0.0230, -0.1124, -0.0938, -0.1000,\n",
       "         -0.1129,  0.0061]], grad_fn=<AddmmBackward>)"
      ]
     },
     "execution_count": 17,
     "metadata": {},
     "output_type": "execute_result"
    }
   ],
   "source": [
    "# Test what happens when image is passed to network1\n",
    "image = image.unsqueeze(0)\n",
    "network1(image)"
   ]
  },
  {
   "cell_type": "markdown",
   "metadata": {},
   "source": [
    "#### Second way of creating sequentional models using OrderedDict\n",
    "\n",
    "- This allows us to name our layers "
   ]
  },
  {
   "cell_type": "code",
   "execution_count": 18,
   "metadata": {},
   "outputs": [
    {
     "name": "stdout",
     "output_type": "stream",
     "text": [
      "Sequential(\n",
      "  (flat): Flatten()\n",
      "  (hidden): Linear(in_features=784, out_features=392, bias=True)\n",
      "  (output): Linear(in_features=392, out_features=10, bias=True)\n",
      ")\n",
      "tensor([[-0.0542,  0.0214, -0.0882,  0.0210,  0.3612,  0.0607,  0.0121,  0.2170,\n",
      "          0.3957, -0.1831]], grad_fn=<AddmmBackward>)\n"
     ]
    }
   ],
   "source": [
    "layers = OrderedDict([\n",
    "    ('flat', nn.Flatten(start_dim=1)),\n",
    "    ('hidden', nn.Linear(in_features, out_features)),\n",
    "    ('output', nn.Linear(out_features, out_classes))\n",
    "])\n",
    "\n",
    "network2 = nn.Sequential(layers)\n",
    "print(network2)\n",
    "print(network2(image))"
   ]
  },
  {
   "cell_type": "markdown",
   "metadata": {},
   "source": [
    "- Even though the networks are the same (architecture (structure) wise) the output, when given the same image, will be different. \n",
    "    - This is because of the way the weights are initialized\n",
    "        - Random initialization means different weights per initialization\n",
    "        \n",
    "- However, we can use a certain seed from the generator to initialize identical set of weights"
   ]
  },
  {
   "cell_type": "code",
   "execution_count": 21,
   "metadata": {},
   "outputs": [
    {
     "name": "stdout",
     "output_type": "stream",
     "text": [
      "Sequential(\n",
      "  (0): Flatten()\n",
      "  (1): Linear(in_features=784, out_features=392, bias=True)\n",
      "  (2): Linear(in_features=392, out_features=10, bias=True)\n",
      ")\n",
      "Sequential(\n",
      "  (flat): Flatten()\n",
      "  (hidden): Linear(in_features=784, out_features=392, bias=True)\n",
      "  (output): Linear(in_features=392, out_features=10, bias=True)\n",
      ")\n",
      "tensor([[ 0.1681,  0.1028, -0.0790, -0.0659, -0.2436,  0.1328, -0.0864,  0.0016,\n",
      "          0.1819, -0.0168]], grad_fn=<AddmmBackward>)\n",
      "tensor([[ 0.1681,  0.1028, -0.0790, -0.0659, -0.2436,  0.1328, -0.0864,  0.0016,\n",
      "          0.1819, -0.0168]], grad_fn=<AddmmBackward>)\n"
     ]
    }
   ],
   "source": [
    "torch.manual_seed(50)\n",
    "\n",
    "network1 = nn.Sequential(\n",
    "    nn.Flatten(start_dim=1),\n",
    "    nn.Linear(in_features, out_features),\n",
    "    nn.Linear(out_features, out_classes)\n",
    ")\n",
    "\n",
    "torch.manual_seed(50)\n",
    "layers = OrderedDict([\n",
    "    ('flat', nn.Flatten(start_dim=1)),\n",
    "    ('hidden', nn.Linear(in_features, out_features)),\n",
    "    ('output', nn.Linear(out_features, out_classes))\n",
    "])\n",
    "\n",
    "network2 = nn.Sequential(layers)\n",
    "print(network1)\n",
    "print(network2)\n",
    "print(network1(image))\n",
    "print(network2(image))"
   ]
  },
  {
   "cell_type": "markdown",
   "metadata": {},
   "source": [
    "#### Third way of creating sequential models\n",
    "\n",
    "- Initialize without constructor and then add modules afterwards\n",
    "- This will also allow us to name our layers"
   ]
  },
  {
   "cell_type": "code",
   "execution_count": 22,
   "metadata": {},
   "outputs": [
    {
     "name": "stdout",
     "output_type": "stream",
     "text": [
      "Sequential(\n",
      "  (flat): Flatten()\n",
      "  (hidden): Linear(in_features=784, out_features=392, bias=True)\n",
      "  (output): Linear(in_features=392, out_features=10, bias=True)\n",
      ")\n",
      "tensor([[ 0.1681,  0.1028, -0.0790, -0.0659, -0.2436,  0.1328, -0.0864,  0.0016,\n",
      "          0.1819, -0.0168]], grad_fn=<AddmmBackward>)\n"
     ]
    }
   ],
   "source": [
    "torch.manual_seed(50)\n",
    "network3 = nn.Sequential()\n",
    "network3.add_module('flat', nn.Flatten(start_dim=1))\n",
    "network3.add_module('hidden', nn.Linear(in_features, out_features))\n",
    "network3.add_module('output', nn.Linear(out_features, out_classes))\n",
    "\n",
    "print(network3)\n",
    "print(network3(image))"
   ]
  },
  {
   "cell_type": "code",
   "execution_count": null,
   "metadata": {},
   "outputs": [],
   "source": []
  }
 ],
 "metadata": {
  "kernelspec": {
   "display_name": "Python 3",
   "language": "python",
   "name": "python3"
  },
  "language_info": {
   "codemirror_mode": {
    "name": "ipython",
    "version": 3
   },
   "file_extension": ".py",
   "mimetype": "text/x-python",
   "name": "python",
   "nbconvert_exporter": "python",
   "pygments_lexer": "ipython3",
   "version": "3.7.6"
  }
 },
 "nbformat": 4,
 "nbformat_minor": 4
}
