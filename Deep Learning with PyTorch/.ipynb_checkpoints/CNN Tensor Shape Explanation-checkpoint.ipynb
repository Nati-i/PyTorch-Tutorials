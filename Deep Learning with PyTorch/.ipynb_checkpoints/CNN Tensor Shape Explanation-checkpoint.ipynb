{
 "cells": [
  {
   "cell_type": "markdown",
   "metadata": {},
   "source": [
    "# Explaining Tensors Using a CNN Example\n",
    "\n",
    "- [?, color, height, width]\n",
    "- [3, 1, 28, 28] -> 3 images, each with one color scheme (greyscale), each with a dim of 28*28\n",
    "- The tensors change shape as they propagate through the networks so it is important to reshape them correctly \n",
    "    - Eg. color channels -> [filter] -> feature maps\n",
    "- Data must be passed through pre-processing routines to transform it to efficient tensor formats\n",
    "- PyTorch Tensors have some specific attributes\n",
    "    - dtype: data type of tensor float32, etc.\n",
    "    - devcie: device on tensor\n",
    "    - layout: tells about how tensors are laid out on memory\n",
    "- Tensor computations must be of the same data type (i.e int + int = okay), and also must be on the same device\n",
    "\n",
    "# Continue Here:\n",
    "https://www.youtube.com/watch?v=jexkKugTg04&list=PLZbbT5o_s2xrfNyHZsM6ufI0iZENK9xgG&index=8&ab_channel=deeplizard"
   ]
  },
  {
   "cell_type": "code",
   "execution_count": 4,
   "metadata": {},
   "outputs": [
    {
     "name": "stdout",
     "output_type": "stream",
     "text": [
      "torch.float32\n",
      "cpu\n",
      "torch.strided\n"
     ]
    }
   ],
   "source": [
    "import torch\n",
    "import torch.nn as nn\n",
    "import numpy as np\n",
    "\n",
    "t = torch.Tensor()\n",
    "print(t.dtype)\n",
    "print(t.device)\n",
    "print(t.layout)"
   ]
  },
  {
   "cell_type": "code",
   "execution_count": null,
   "metadata": {},
   "outputs": [],
   "source": []
  }
 ],
 "metadata": {
  "kernelspec": {
   "display_name": "Python 3",
   "language": "python",
   "name": "python3"
  },
  "language_info": {
   "codemirror_mode": {
    "name": "ipython",
    "version": 3
   },
   "file_extension": ".py",
   "mimetype": "text/x-python",
   "name": "python",
   "nbconvert_exporter": "python",
   "pygments_lexer": "ipython3",
   "version": "3.7.6"
  }
 },
 "nbformat": 4,
 "nbformat_minor": 4
}
